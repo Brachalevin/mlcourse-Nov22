{
  "cells": [
    {
      "cell_type": "markdown",
      "metadata": {
        "id": "ezpLq3LQeK3j"
      },
      "source": [
        "<a href=\"https://githubtocolab.com/alevant/mlcourse-Nov22/blob/main/linear_regression_1.ipynb\" target=\"_parent\"><img src=\"https://colab.research.google.com/assets/colab-badge.svg\" alt=\"Open in Colab\"/></a>"
      ]
    },
    {
      "cell_type": "code",
      "source": [
        "!git clone https://github.com/alevant/mlcourse-Nov22 mlcourse"
      ],
      "metadata": {
        "id": "aZ0T2zvh7yK7",
        "outputId": "818b3e5a-2fa3-45d5-9481-dedcb4e80545",
        "colab": {
          "base_uri": "https://localhost:8080/"
        }
      },
      "execution_count": 1,
      "outputs": [
        {
          "output_type": "stream",
          "name": "stdout",
          "text": [
            "Cloning into 'mlcourse'...\n",
            "remote: Enumerating objects: 43, done.\u001b[K\n",
            "remote: Counting objects: 100% (43/43), done.\u001b[K\n",
            "remote: Compressing objects: 100% (40/40), done.\u001b[K\n",
            "remote: Total 43 (delta 10), reused 0 (delta 0), pack-reused 0\u001b[K\n",
            "Unpacking objects: 100% (43/43), done.\n"
          ]
        }
      ]
    },
    {
      "cell_type": "code",
      "execution_count": 2,
      "metadata": {
        "id": "R9baDh81zFIX"
      },
      "outputs": [],
      "source": [
        "import pandas as pd\n",
        "import numpy as np\n",
        "import matplotlib.pyplot as plt\n",
        "%matplotlib inline\n",
        "import datetime\n"
      ]
    },
    {
      "cell_type": "markdown",
      "source": [
        "This is ice cream data  - x- independent varalbe - temp, y- sales"
      ],
      "metadata": {
        "id": "G2VcGNxFJEsK"
      }
    },
    {
      "cell_type": "code",
      "source": [
        "x = np.array([14.2, 16.4, 11.9, 15.2,18.5, 22.1, 19.4, 25.1, 23.4, 18.1, 22.6, 17.2])\n",
        "y = np.array([215,325,185,332,406,522,412,614,544,421,445,408])"
      ],
      "metadata": {
        "id": "NY4mjiKtZBfp"
      },
      "execution_count": 3,
      "outputs": []
    },
    {
      "cell_type": "markdown",
      "source": [
        "Let's plot a scatter plot"
      ],
      "metadata": {
        "id": "_ZCKkY6mJOXZ"
      }
    },
    {
      "cell_type": "code",
      "source": [
        "plt.scatter(x,y, color = 'red')\n",
        "plt.title('Ice cream sales')\n",
        "plt.xlabel('Temp (C)')\n",
        "plt.ylabel('SAles ($)')\n",
        "plt.show()"
      ],
      "metadata": {
        "id": "7hRwYKzEZ2XR",
        "outputId": "b36a1565-0168-46a1-b36f-fbc4f548862f",
        "colab": {
          "base_uri": "https://localhost:8080/",
          "height": 295
        }
      },
      "execution_count": 4,
      "outputs": [
        {
          "output_type": "display_data",
          "data": {
            "text/plain": [
              "<Figure size 432x288 with 1 Axes>"
            ],
            "image/png": "[encoded data removed]"
          },
          "metadata": {
            "needs_background": "light"
          }
        }
      ]
    },
    {
      "cell_type": "markdown",
      "source": [
        "\n",
        "\n",
        "Train model on the data\n",
        "\n"
      ],
      "metadata": {
        "id": "TiEQiNR-JTT7"
      }
    },
    {
      "cell_type": "code",
      "source": [
        "# training the simple linear regresion on trainning set\n",
        "from sklearn.linear_model import LinearRegression\n",
        "regressor = LinearRegression()\n",
        "regressor.fit(x.reshape(-1, 1),y)\n",
        "y_predict = regressor.predict(x.reshape(-1, 1))"
      ],
      "metadata": {
        "id": "SLhKMWxzaGJW"
      },
      "execution_count": 5,
      "outputs": []
    },
    {
      "cell_type": "code",
      "source": [
        "print('The parameters of the model y=ax+b are')\n",
        "print(f'a={regressor.coef_[0]}')\n",
        "print(f'b={regressor.intercept_}')\n"
      ],
      "metadata": {
        "id": "-oX6i7CTaYbV",
        "outputId": "26045ca3-2afc-4b59-8b79-229e9e0ebff0",
        "colab": {
          "base_uri": "https://localhost:8080/"
        }
      },
      "execution_count": 6,
      "outputs": [
        {
          "output_type": "stream",
          "name": "stdout",
          "text": [
            "The parameters of the model y=ax+b are\n",
            "a=30.087861794245185\n",
            "b=-159.4741523408622\n"
          ]
        }
      ]
    },
    {
      "cell_type": "markdown",
      "source": [
        "Plot data and the model"
      ],
      "metadata": {
        "id": "r3Ig-4WVJZkd"
      }
    },
    {
      "cell_type": "code",
      "source": [
        "plt.scatter(x,y, color = 'red')\n",
        "plt.plot(x,y_predict, color ='blue')\n",
        "plt.title('Ice cream sales')\n",
        "plt.xlabel('Temp (C)')\n",
        "plt.ylabel('Sales ($)')\n",
        "plt.show()"
      ],
      "metadata": {
        "id": "mNUpLkLjahZa",
        "outputId": "94ae1078-3bbd-4fe6-ddcb-7e809122d8e7",
        "colab": {
          "base_uri": "https://localhost:8080/",
          "height": 295
        }
      },
      "execution_count": 7,
      "outputs": [
        {
          "output_type": "display_data",
          "data": {
            "text/plain": [
              "<Figure size 432x288 with 1 Axes>"
            ],
            "image/png": "[encoded data removed]"
          },
          "metadata": {
            "needs_background": "light"
          }
        }
      ]
    },
    {
      "cell_type": "markdown",
      "source": [
        "Predict sales at 13 deg"
      ],
      "metadata": {
        "id": "zJZbC4fnJdiI"
      }
    },
    {
      "cell_type": "code",
      "source": [
        "y_predict_13 = regressor.predict([[13]])\n",
        "y_predict_13"
      ],
      "metadata": {
        "id": "S12ullGqc0iE",
        "outputId": "2aa1b80a-3f6a-4669-f4db-c4d21012a702",
        "colab": {
          "base_uri": "https://localhost:8080/"
        }
      },
      "execution_count": 8,
      "outputs": [
        {
          "output_type": "execute_result",
          "data": {
            "text/plain": [
              "array([231.66805098])"
            ]
          },
          "metadata": {},
          "execution_count": 8
        }
      ]
    },
    {
      "cell_type": "markdown",
      "source": [
        "Plot residuals"
      ],
      "metadata": {
        "id": "Fq4JhItjJksa"
      }
    },
    {
      "cell_type": "code",
      "source": [
        "plt.scatter(x,y-y_predict, color = 'red')\n",
        "plt.title('Ice cream sales')\n",
        "plt.xlabel('Temp (C)')\n",
        "plt.ylabel('Error ($)')\n",
        "plt.show()"
      ],
      "metadata": {
        "id": "E08_yENucDSe",
        "outputId": "dc2745b9-f265-40b3-832b-93fd5058a51b",
        "colab": {
          "base_uri": "https://localhost:8080/",
          "height": 295
        }
      },
      "execution_count": 9,
      "outputs": [
        {
          "output_type": "display_data",
          "data": {
            "text/plain": [
              "<Figure size 432x288 with 1 Axes>"
            ],
            "image/png": "[encoded data removed]"
          },
          "metadata": {
            "needs_background": "light"
          }
        }
      ]
    },
    {
      "cell_type": "markdown",
      "source": [
        "Show metrics of model goodness"
      ],
      "metadata": {
        "id": "22aBkWGGJo-9"
      }
    },
    {
      "cell_type": "code",
      "source": [
        "from sklearn import metrics\n",
        "metrics.mean_squared_error(y, y_predict)\n",
        "print(\"MSE: {:.4f}\".format(metrics.mean_squared_error(y, y_predict)))\n",
        "print(\"R^2: {:.4f}\".format(regressor.score(x.reshape(-1, 1),y)))"
      ],
      "metadata": {
        "id": "u4mNNKxZbb57",
        "outputId": "3e0e7741-645a-43e4-ab50-e38ccf5b88ac",
        "colab": {
          "base_uri": "https://localhost:8080/"
        }
      },
      "execution_count": 10,
      "outputs": [
        {
          "output_type": "stream",
          "name": "stdout",
          "text": [
            "MSE: 1211.3584\n",
            "R^2: 0.9168\n"
          ]
        }
      ]
    },
    {
      "cell_type": "markdown",
      "source": [
        "Another way to calculate linear regression model including p=value"
      ],
      "metadata": {
        "id": "B2nQgZ6vJuXV"
      }
    },
    {
      "cell_type": "code",
      "source": [
        "from scipy import stats\n",
        "slope, inter, rval, pval, se = stats.linregress(x,y)\n",
        "print(f'a={slope}')\n",
        "print(f'b={inter}')\n",
        "print(\"R^2: {:.4f}\".format(rval**2))\n",
        "print(\"p-val: {:.4f}\".format(pval))"
      ],
      "metadata": {
        "id": "TXNWm6CaqOA_",
        "outputId": "45ee49d7-2b51-47e4-d6e2-60284d9b5544",
        "colab": {
          "base_uri": "https://localhost:8080/"
        }
      },
      "execution_count": 12,
      "outputs": [
        {
          "output_type": "stream",
          "name": "stdout",
          "text": [
            "a=30.087861794245196\n",
            "b=-159.47415234086242\n",
            "R^2: 0.9168\n",
            "p-val: 0.0000\n"
          ]
        }
      ]
    },
    {
      "cell_type": "markdown",
      "source": [
        "Another larger Data Set we will split data to train and test"
      ],
      "metadata": {
        "id": "VFq_ohFMb7Hi"
      }
    },
    {
      "cell_type": "code",
      "execution_count": 13,
      "metadata": {
        "id": "bKggYlrnzFIa"
      },
      "outputs": [],
      "source": [
        "df =pd.read_csv(\"mlcourse/data/Salary_Data.csv\")"
      ]
    },
    {
      "cell_type": "code",
      "execution_count": 14,
      "metadata": {
        "id": "cAilHcSlzFIb",
        "outputId": "a3cce043-ff52-4aa5-ff8f-c197f5c06f7e",
        "colab": {
          "base_uri": "https://localhost:8080/",
          "height": 206
        }
      },
      "outputs": [
        {
          "output_type": "execute_result",
          "data": {
            "text/plain": [
              "   YearsExperience   Salary\n",
              "0              1.1  39343.0\n",
              "1              1.3  46205.0\n",
              "2              1.5  37731.0\n",
              "3              2.0  43525.0\n",
              "4              2.2  39891.0"
            ],
            "text/html": [
              "\n",
              "  <div id=\"df-3a11ff7a-9ca2-457d-aaea-486caffd3ee9\">\n",
              "    <div class=\"colab-df-container\">\n",
              "      <div>\n",
              "<style scoped>\n",
              "    .dataframe tbody tr th:only-of-type {\n",
              "        vertical-align: middle;\n",
              "    }\n",
              "\n",
              "    .dataframe tbody tr th {\n",
              "        vertical-align: top;\n",
              "    }\n",
              "\n",
              "    .dataframe thead th {\n",
              "        text-align: right;\n",
              "    }\n",
              "</style>\n",
              "<table border=\"1\" class=\"dataframe\">\n",
              "  <thead>\n",
              "    <tr style=\"text-align: right;\">\n",
              "      <th></th>\n",
              "      <th>YearsExperience</th>\n",
              "      <th>Salary</th>\n",
              "    </tr>\n",
              "  </thead>\n",
              "  <tbody>\n",
              "    <tr>\n",
              "      <th>0</th>\n",
              "      <td>1.1</td>\n",
              "      <td>39343.0</td>\n",
              "    </tr>\n",
              "    <tr>\n",
              "      <th>1</th>\n",
              "      <td>1.3</td>\n",
              "      <td>46205.0</td>\n",
              "    </tr>\n",
              "    <tr>\n",
              "      <th>2</th>\n",
              "      <td>1.5</td>\n",
              "      <td>37731.0</td>\n",
              "    </tr>\n",
              "    <tr>\n",
              "      <th>3</th>\n",
              "      <td>2.0</td>\n",
              "      <td>43525.0</td>\n",
              "    </tr>\n",
              "    <tr>\n",
              "      <th>4</th>\n",
              "      <td>2.2</td>\n",
              "      <td>39891.0</td>\n",
              "    </tr>\n",
              "  </tbody>\n",
              "</table>\n",
              "</div>\n",
              "      <button class=\"colab-df-convert\" onclick=\"convertToInteractive('df-3a11ff7a-9ca2-457d-aaea-486caffd3ee9')\"\n",
              "              title=\"Convert this dataframe to an interactive table.\"\n",
              "              style=\"display:none;\">\n",
              "        \n",
              "  <svg xmlns=\"http://www.w3.org/2000/svg\" height=\"24px\"viewBox=\"0 0 24 24\"\n",
              "       width=\"24px\">\n",
              "    <path d=\"M0 0h24v24H0V0z\" fill=\"none\"/>\n",
              "    <path d=\"M18.56 5.44l.94 2.06.94-2.06 2.06-.94-2.06-.94-.94-2.06-.94 2.06-2.06.94zm-11 1L8.5 8.5l.94-2.06 2.06-.94-2.06-.94L8.5 2.5l-.94 2.06-2.06.94zm10 10l.94 2.06.94-2.06 2.06-.94-2.06-.94-.94-2.06-.94 2.06-2.06.94z\"/><path d=\"M17.41 7.96l-1.37-1.37c-.4-.4-.92-.59-1.43-.59-.52 0-1.04.2-1.43.59L10.3 9.45l-7.72 7.72c-.78.78-.78 2.05 0 2.83L4 21.41c.39.39.9.59 1.41.59.51 0 1.02-.2 1.41-.59l7.78-7.78 2.81-2.81c.8-.78.8-2.07 0-2.86zM5.41 20L4 18.59l7.72-7.72 1.47 1.35L5.41 20z\"/>\n",
              "  </svg>\n",
              "      </button>\n",
              "      \n",
              "  <style>\n",
              "    .colab-df-container {\n",
              "      display:flex;\n",
              "      flex-wrap:wrap;\n",
              "      gap: 12px;\n",
              "    }\n",
              "\n",
              "    .colab-df-convert {\n",
              "      background-color: #E8F0FE;\n",
              "      border: none;\n",
              "      border-radius: 50%;\n",
              "      cursor: pointer;\n",
              "      display: none;\n",
              "      fill: #1967D2;\n",
              "      height: 32px;\n",
              "      padding: 0 0 0 0;\n",
              "      width: 32px;\n",
              "    }\n",
              "\n",
              "    .colab-df-convert:hover {\n",
              "      background-color: #E2EBFA;\n",
              "      box-shadow: 0px 1px 2px rgba(60, 64, 67, 0.3), 0px 1px 3px 1px rgba(60, 64, 67, 0.15);\n",
              "      fill: #174EA6;\n",
              "    }\n",
              "\n",
              "    [theme=dark] .colab-df-convert {\n",
              "      background-color: #3B4455;\n",
              "      fill: #D2E3FC;\n",
              "    }\n",
              "\n",
              "    [theme=dark] .colab-df-convert:hover {\n",
              "      background-color: #434B5C;\n",
              "      box-shadow: 0px 1px 3px 1px rgba(0, 0, 0, 0.15);\n",
              "      filter: drop-shadow(0px 1px 2px rgba(0, 0, 0, 0.3));\n",
              "      fill: #FFFFFF;\n",
              "    }\n",
              "  </style>\n",
              "\n",
              "      <script>\n",
              "        const buttonEl =\n",
              "          document.querySelector('#df-3a11ff7a-9ca2-457d-aaea-486caffd3ee9 button.colab-df-convert');\n",
              "        buttonEl.style.display =\n",
              "          google.colab.kernel.accessAllowed ? 'block' : 'none';\n",
              "\n",
              "        async function convertToInteractive(key) {\n",
              "          const element = document.querySelector('#df-3a11ff7a-9ca2-457d-aaea-486caffd3ee9');\n",
              "          const dataTable =\n",
              "            await google.colab.kernel.invokeFunction('convertToInteractive',\n",
              "                                                     [key], {});\n",
              "          if (!dataTable) return;\n",
              "\n",
              "          const docLinkHtml = 'Like what you see? Visit the ' +\n",
              "            '<a target=\"_blank\" href=https://colab.research.google.com/notebooks/data_table.ipynb>data table notebook</a>'\n",
              "            + ' to learn more about interactive tables.';\n",
              "          element.innerHTML = '';\n",
              "          dataTable['output_type'] = 'display_data';\n",
              "          await google.colab.output.renderOutput(dataTable, element);\n",
              "          const docLink = document.createElement('div');\n",
              "          docLink.innerHTML = docLinkHtml;\n",
              "          element.appendChild(docLink);\n",
              "        }\n",
              "      </script>\n",
              "    </div>\n",
              "  </div>\n",
              "  "
            ]
          },
          "metadata": {},
          "execution_count": 14
        }
      ],
      "source": [
        "df.head()"
      ]
    },
    {
      "cell_type": "code",
      "execution_count": 15,
      "metadata": {
        "id": "krhip4SPzFIc"
      },
      "outputs": [],
      "source": [
        "x=df.iloc[:,-2].values\n",
        "y=df.iloc[:,-1].values"
      ]
    },
    {
      "cell_type": "markdown",
      "source": [
        "Exercise: For this example \n",
        "\n",
        "1.  Show scatter plot\n",
        "2.  Fit the model get coef a&b\n",
        "3.  Plot data and fittef model\n",
        "4.  Check residuals\n",
        "5.  Calculate MSE and R2"
      ],
      "metadata": {
        "id": "TmVQfQFwLCv6"
      }
    },
    {
      "cell_type": "code",
      "source": [],
      "metadata": {
        "id": "oRrKzDHl_qAO"
      },
      "execution_count": null,
      "outputs": []
    },
    {
      "cell_type": "markdown",
      "source": [
        "Let's separate it now to train and test to avoid overfit"
      ],
      "metadata": {
        "id": "XGNFAG-z_wq8"
      }
    },
    {
      "cell_type": "code",
      "source": [
        "from sklearn.model_selection import train_test_split\n",
        "x_train,x_test,y_train,y_test = train_test_split(x,y,test_size=0.3,random_state=0)"
      ],
      "metadata": {
        "id": "RIQcdHZGIAn1"
      },
      "execution_count": 16,
      "outputs": []
    }
  ],
  "metadata": {
    "kernelspec": {
      "display_name": "Python 3",
      "language": "python",
      "name": "python3"
    },
    "language_info": {
      "codemirror_mode": {
        "name": "ipython",
        "version": 3
      },
      "file_extension": ".py",
      "mimetype": "text/x-python",
      "name": "python",
      "nbconvert_exporter": "python",
      "pygments_lexer": "ipython3",
      "version": "3.8.5"
    },
    "colab": {
      "name": "simple linear regression 1.ipynb",
      "provenance": []
    }
  },
  "nbformat": 4,
  "nbformat_minor": 0
}