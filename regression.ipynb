{
  "cells": [
    {
      "cell_type": "markdown",
      "metadata": {
        "id": "KyoRgvtZK6hy"
      },
      "source": [
        "<a href=\"https://githubtocolab.com/alevant/mlcourse-Nov22/blob/main/regression.ipynb\" target=\"_parent\"><img src=\"https://colab.research.google.com/assets/colab-badge.svg\" alt=\"Open in Colab\"/></a>\n"
      ]
    },
    {
      "cell_type": "code",
      "execution_count": null,
      "metadata": {
        "id": "QM1avmkDK6h3"
      },
      "outputs": [],
      "source": [
        "import matplotlib.pyplot as plt\n",
        "import numpy as np\n",
        "import pandas as pd\n",
        "import seaborn as sns\n",
        "from sklearn import linear_model\n",
        "%matplotlib inline\n"
      ]
    },
    {
      "cell_type": "code",
      "source": [
        "!git clone https://github.com/alevant/mlcourse-Nov22 mlcourse"
      ],
      "metadata": {
        "id": "Ot2aUqB5BHB1",
        "outputId": "bb30e454-7c14-4a67-dfff-a83c2fa249fc",
        "colab": {
          "base_uri": "https://localhost:8080/"
        }
      },
      "execution_count": null,
      "outputs": [
        {
          "output_type": "stream",
          "name": "stdout",
          "text": [
            "fatal: destination path 'mlcourse' already exists and is not an empty directory.\n"
          ]
        }
      ]
    },
    {
      "cell_type": "markdown",
      "metadata": {
        "id": "aW0Q42J7K6h5"
      },
      "source": [
        "## Supervised learning\n",
        "\n",
        "Supervised learning (SL) is a machine learning paradigm for problems where the available data consists of labelled examples, meaning that each data point contains features (covariates) and an associated label. The goal of supervised learning algorithms is learning a function that maps feature vectors (inputs) to labels (output), based on example input-output pairs. It infers a function from labeled training data consisting of a set of training examples. In supervised learning, each example is a pair consisting of an input object (typically a vector) and a desired output value (also called the supervisory signal). A supervised learning algorithm analyzes the training data and produces an inferred function, which can be used for mapping new examples. An optimal scenario will allow for the algorithm to correctly determine the class labels for unseen instances. This requires the learning algorithm to generalize from the training data to unseen situations in a \"reasonable\" way (see inductive bias). This statistical quality of an algorithm is measured through the so-called generalization error.\n",
        "\n",
        "The most popular python toolbox for solution of Machine Learning problems is *scikit-learn*. To install it just type\n",
        "```\n",
        "pip install scikit-learn\n",
        "```\n",
        "\n",
        "All supervised estimators (models) in *scikit-learn* (both for regression and classification problems) implement a `fit(X, y)` method to fit the model and a `predict(X)` method that, given unlabeled observations `X`, returns the predicted labels `y`.\n",
        "\n",
        "In this section we will learn how to train, use and estimate the *linear regression*. We will work with 2 datasets\n",
        "* healthexp - for the simple 1-parameter `X` linear regression\n",
        "* pinguins - for the more sofisticated models, involving multiple parameter/polynomial regression\n"
      ]
    },
    {
      "cell_type": "markdown",
      "metadata": {
        "id": "5bOZFg51K6h7"
      },
      "source": [
        "## Life Expectancy vs. Spendings\n",
        "\n",
        "Let's load the data set from the standard set of Seaborn package\n"
      ]
    },
    {
      "cell_type": "code",
      "execution_count": null,
      "metadata": {
        "id": "GNKYAscxK6h8",
        "outputId": "983c1602-154d-4f73-b9cd-7dd265ee0fed",
        "colab": {
          "base_uri": "https://localhost:8080/",
          "height": 206
        }
      },
      "outputs": [
        {
          "output_type": "execute_result",
          "data": {
            "text/plain": [
              "   Year        Country  Spending_USD  Life_Expectancy\n",
              "0  1970        Germany       252.311             70.6\n",
              "1  1970         France       192.143             72.2\n",
              "2  1970  Great Britain       123.993             71.9\n",
              "3  1970          Japan       150.437             72.0\n",
              "4  1970            USA       326.961             70.9"
            ],
            "text/html": [
              "\n",
              "  <div id=\"df-c4681b9c-fbc9-47c9-9f3f-3202d68e936e\">\n",
              "    <div class=\"colab-df-container\">\n",
              "      <div>\n",
              "<style scoped>\n",
              "    .dataframe tbody tr th:only-of-type {\n",
              "        vertical-align: middle;\n",
              "    }\n",
              "\n",
              "    .dataframe tbody tr th {\n",
              "        vertical-align: top;\n",
              "    }\n",
              "\n",
              "    .dataframe thead th {\n",
              "        text-align: right;\n",
              "    }\n",
              "</style>\n",
              "<table border=\"1\" class=\"dataframe\">\n",
              "  <thead>\n",
              "    <tr style=\"text-align: right;\">\n",
              "      <th></th>\n",
              "      <th>Year</th>\n",
              "      <th>Country</th>\n",
              "      <th>Spending_USD</th>\n",
              "      <th>Life_Expectancy</th>\n",
              "    </tr>\n",
              "  </thead>\n",
              "  <tbody>\n",
              "    <tr>\n",
              "      <th>0</th>\n",
              "      <td>1970</td>\n",
              "      <td>Germany</td>\n",
              "      <td>252.311</td>\n",
              "      <td>70.6</td>\n",
              "    </tr>\n",
              "    <tr>\n",
              "      <th>1</th>\n",
              "      <td>1970</td>\n",
              "      <td>France</td>\n",
              "      <td>192.143</td>\n",
              "      <td>72.2</td>\n",
              "    </tr>\n",
              "    <tr>\n",
              "      <th>2</th>\n",
              "      <td>1970</td>\n",
              "      <td>Great Britain</td>\n",
              "      <td>123.993</td>\n",
              "      <td>71.9</td>\n",
              "    </tr>\n",
              "    <tr>\n",
              "      <th>3</th>\n",
              "      <td>1970</td>\n",
              "      <td>Japan</td>\n",
              "      <td>150.437</td>\n",
              "      <td>72.0</td>\n",
              "    </tr>\n",
              "    <tr>\n",
              "      <th>4</th>\n",
              "      <td>1970</td>\n",
              "      <td>USA</td>\n",
              "      <td>326.961</td>\n",
              "      <td>70.9</td>\n",
              "    </tr>\n",
              "  </tbody>\n",
              "</table>\n",
              "</div>\n",
              "      <button class=\"colab-df-convert\" onclick=\"convertToInteractive('df-c4681b9c-fbc9-47c9-9f3f-3202d68e936e')\"\n",
              "              title=\"Convert this dataframe to an interactive table.\"\n",
              "              style=\"display:none;\">\n",
              "        \n",
              "  <svg xmlns=\"http://www.w3.org/2000/svg\" height=\"24px\"viewBox=\"0 0 24 24\"\n",
              "       width=\"24px\">\n",
              "    <path d=\"M0 0h24v24H0V0z\" fill=\"none\"/>\n",
              "    <path d=\"M18.56 5.44l.94 2.06.94-2.06 2.06-.94-2.06-.94-.94-2.06-.94 2.06-2.06.94zm-11 1L8.5 8.5l.94-2.06 2.06-.94-2.06-.94L8.5 2.5l-.94 2.06-2.06.94zm10 10l.94 2.06.94-2.06 2.06-.94-2.06-.94-.94-2.06-.94 2.06-2.06.94z\"/><path d=\"M17.41 7.96l-1.37-1.37c-.4-.4-.92-.59-1.43-.59-.52 0-1.04.2-1.43.59L10.3 9.45l-7.72 7.72c-.78.78-.78 2.05 0 2.83L4 21.41c.39.39.9.59 1.41.59.51 0 1.02-.2 1.41-.59l7.78-7.78 2.81-2.81c.8-.78.8-2.07 0-2.86zM5.41 20L4 18.59l7.72-7.72 1.47 1.35L5.41 20z\"/>\n",
              "  </svg>\n",
              "      </button>\n",
              "      \n",
              "  <style>\n",
              "    .colab-df-container {\n",
              "      display:flex;\n",
              "      flex-wrap:wrap;\n",
              "      gap: 12px;\n",
              "    }\n",
              "\n",
              "    .colab-df-convert {\n",
              "      background-color: #E8F0FE;\n",
              "      border: none;\n",
              "      border-radius: 50%;\n",
              "      cursor: pointer;\n",
              "      display: none;\n",
              "      fill: #1967D2;\n",
              "      height: 32px;\n",
              "      padding: 0 0 0 0;\n",
              "      width: 32px;\n",
              "    }\n",
              "\n",
              "    .colab-df-convert:hover {\n",
              "      background-color: #E2EBFA;\n",
              "      box-shadow: 0px 1px 2px rgba(60, 64, 67, 0.3), 0px 1px 3px 1px rgba(60, 64, 67, 0.15);\n",
              "      fill: #174EA6;\n",
              "    }\n",
              "\n",
              "    [theme=dark] .colab-df-convert {\n",
              "      background-color: #3B4455;\n",
              "      fill: #D2E3FC;\n",
              "    }\n",
              "\n",
              "    [theme=dark] .colab-df-convert:hover {\n",
              "      background-color: #434B5C;\n",
              "      box-shadow: 0px 1px 3px 1px rgba(0, 0, 0, 0.15);\n",
              "      filter: drop-shadow(0px 1px 2px rgba(0, 0, 0, 0.3));\n",
              "      fill: #FFFFFF;\n",
              "    }\n",
              "  </style>\n",
              "\n",
              "      <script>\n",
              "        const buttonEl =\n",
              "          document.querySelector('#df-c4681b9c-fbc9-47c9-9f3f-3202d68e936e button.colab-df-convert');\n",
              "        buttonEl.style.display =\n",
              "          google.colab.kernel.accessAllowed ? 'block' : 'none';\n",
              "\n",
              "        async function convertToInteractive(key) {\n",
              "          const element = document.querySelector('#df-c4681b9c-fbc9-47c9-9f3f-3202d68e936e');\n",
              "          const dataTable =\n",
              "            await google.colab.kernel.invokeFunction('convertToInteractive',\n",
              "                                                     [key], {});\n",
              "          if (!dataTable) return;\n",
              "\n",
              "          const docLinkHtml = 'Like what you see? Visit the ' +\n",
              "            '<a target=\"_blank\" href=https://colab.research.google.com/notebooks/data_table.ipynb>data table notebook</a>'\n",
              "            + ' to learn more about interactive tables.';\n",
              "          element.innerHTML = '';\n",
              "          dataTable['output_type'] = 'display_data';\n",
              "          await google.colab.output.renderOutput(dataTable, element);\n",
              "          const docLink = document.createElement('div');\n",
              "          docLink.innerHTML = docLinkHtml;\n",
              "          element.appendChild(docLink);\n",
              "        }\n",
              "      </script>\n",
              "    </div>\n",
              "  </div>\n",
              "  "
            ]
          },
          "metadata": {},
          "execution_count": 3
        }
      ],
      "source": [
        "# Those who have internet connection can load the data like this:\n",
        "#df = sns.load_dataset('healthexp')\n",
        "\n",
        "df = pd.read_csv('./mlcourse/data/healthexp.csv')\n",
        "df.head(5)"
      ]
    },
    {
      "cell_type": "markdown",
      "metadata": {
        "id": "QvmEBPvnK6h-"
      },
      "source": [
        "The simplest model for such predictions is the linear model\n",
        "$$\n",
        "\\widehat{y} = ax + b\n",
        "$$\n",
        "where here $x$ is the aces and $y$ is the points won.\n",
        "The model parameters can be interpreted as follows:\n",
        "- the intercept $b$ is the estimate for points won if 0 points were aced, and\n",
        "- the slope $a$ is the estimate for the linear increase in points won for every additional ace.\n",
        "\n",
        "We then look for $a$ and $b$ such that this loss function is minimized:\n",
        "$$\n",
        "loss = \\sum_{i=1}^n{(y-\\widehat{y})^2}\n",
        "$$\n",
        "Note that this loss is just the square of the residuals -- the difference between the true value $y$ and the predicted value $\\widehat{y}$.\n",
        "\n",
        "Let's use Scikit-learn to fit a linear regression model.\n",
        "\n",
        "We import the model, and format the data the way scikit-learn likes it."
      ]
    },
    {
      "cell_type": "code",
      "execution_count": null,
      "metadata": {
        "id": "dIlPvuv3K6h_",
        "outputId": "49f2456a-e21e-4b1c-e088-a0267c1980e2",
        "colab": {
          "base_uri": "https://localhost:8080/"
        }
      },
      "outputs": [
        {
          "output_type": "stream",
          "name": "stdout",
          "text": [
            "R^2: 0.9321\n"
          ]
        }
      ],
      "source": [
        "X = df.loc[df.Country=='Canada', 'Spending_USD'].values.reshape((-1, 1))\n",
        "y = df.loc[df.Country=='Canada', 'Life_Expectancy'].values\n",
        "lin_model = linear_model.LinearRegression()\n",
        "lin_model.fit(X, y)\n",
        "print(\"R^2: {:.4f}\".format(lin_model.score(X, y)))"
      ]
    },
    {
      "cell_type": "markdown",
      "metadata": {
        "id": "JdoQRp_TK6iA"
      },
      "source": [
        "$R^2$ is between $0$ and $1$, and it determines the proportion of variation in $y$ explained by the linear regression. 93% is quite a good fit. Just as a reminder:\n",
        "$$\n",
        "R^2 = 1 - \\frac{SSE}{SST} = 1 - \\frac{\\sum (y-\\widehat{y})^2}{\\sum (y-\\bar{y})},\n",
        "$$\n",
        "where $y$ - are original values, $\\widehat{y}$ - predicted values and $\\bar{y}$ - are the average of the original values of the Life expectancy (dependant variable)\n",
        "\n",
        "Let's look at the plots"
      ]
    },
    {
      "cell_type": "code",
      "execution_count": null,
      "metadata": {
        "id": "bjfDfSi6K6iB",
        "outputId": "963a021f-b69d-446c-8f2d-4f6faff5a203",
        "colab": {
          "base_uri": "https://localhost:8080/",
          "height": 367
        }
      },
      "outputs": [
        {
          "output_type": "execute_result",
          "data": {
            "text/plain": [
              "Text(0.5, 1.0, 'Country: Canada')"
            ]
          },
          "metadata": {},
          "execution_count": 6
        },
        {
          "output_type": "display_data",
          "data": {
            "text/plain": [
              "<Figure size 360x360 with 1 Axes>"
            ],
            "image/png": "[encoded data removed]"
          },
          "metadata": {
            "needs_background": "light"
          }
        }
      ],
      "source": [
        "plt.figure(figsize=(5, 5))\n",
        "plt.plot(X, y, '.k')\n",
        "plt.plot(X, lin_model.predict(X))\n",
        "plt.xlabel('Spending ($)')\n",
        "plt.ylabel('Life Expectancy (years)')\n",
        "plt.title('Country: Canada')"
      ]
    },
    {
      "cell_type": "markdown",
      "metadata": {
        "id": "S5rxSQYdK6iD"
      },
      "source": [
        "We can easily get the parameters of the model in the following way:"
      ]
    },
    {
      "cell_type": "code",
      "execution_count": null,
      "metadata": {
        "id": "_i6ubsCOK6iF",
        "outputId": "f8316c80-8146-4480-ebff-d208cd43e798",
        "colab": {
          "base_uri": "https://localhost:8080/"
        }
      },
      "outputs": [
        {
          "output_type": "stream",
          "name": "stdout",
          "text": [
            "The parameters of the model y=ax+b are\n",
            "a=0.0015828050279988568\n",
            "b=74.45575471973685\n"
          ]
        }
      ],
      "source": [
        "print('The parameters of the model y=ax+b are')\n",
        "print(f'a={lin_model.coef_[0]}')\n",
        "print(f'b={lin_model.intercept_}')"
      ]
    },
    {
      "cell_type": "markdown",
      "metadata": {
        "id": "GDn2yV3yAgQz"
      },
      "source": [
        "How we can use the model? Suppose that given the data we want to estimate how much will be the Life expectancy for the Spendings of $1000$? The answer is we plug $x=1000$ into the model that we trained on the data and get the predicted answer"
      ]
    },
    {
      "cell_type": "code",
      "execution_count": null,
      "metadata": {
        "jupyter": {
          "outputs_hidden": false
        },
        "id": "_gYPQm_8AgQ0",
        "outputId": "06ea236e-8f94-4f78-83d7-ee05ea98cacb",
        "colab": {
          "base_uri": "https://localhost:8080/"
        }
      },
      "outputs": [
        {
          "output_type": "stream",
          "name": "stdout",
          "text": [
            "The Life expectancy for x=1000 is 76.0385597477357\n",
            "The Life expectancy for x=20000 is 106.11185527971398\n"
          ]
        }
      ],
      "source": [
        "def get_prediction(model, x):\n",
        "    return model.coef_[0] * x + model.intercept_\n",
        "\n",
        "print(f'The Life expectancy for x=1000 is {get_prediction(lin_model, 1000)}')\n",
        "print(f'The Life expectancy for x=20000 is {get_prediction(lin_model, 20000)}')"
      ]
    },
    {
      "cell_type": "markdown",
      "metadata": {
        "id": "EDW76yh7AgQ0"
      },
      "source": [
        "For $1000$ the prediction is good. However, the model predicts that for $20000$, Life expectancy will be 139 years (!) - it's improssible. What is the exaplnation? The answer is: extrapolation is very dangerous\n"
      ]
    },
    {
      "cell_type": "markdown",
      "metadata": {
        "id": "Vn7qcOzOAgQ0"
      },
      "source": [
        "## Risidual analysis: how good is our fit?\n",
        "\n",
        "First of all, let's compute the MSE - *mean square error* - very important measure of goodness of fit\n",
        "$$\n",
        "MSE = \\frac{1}{n} \\sum_{i=1}^n{(y-\\widehat{y})^2}\n",
        "$$\n",
        "\n",
        "Let's plot the Original values vs. the Prediction. In addition, we plot the line\n",
        "$$\n",
        "y=x\n",
        "$$\n",
        "The distances between the points of the graph to this line are the residuals. The module *sklearn* contains the sub-module *metrics* that contains the function computing the MSE:\n",
        "```\n",
        "from sklearn import metrics\n",
        "metrics.mean_squared_error(y, y_pred)\n",
        "```\n"
      ]
    },
    {
      "cell_type": "code",
      "execution_count": null,
      "metadata": {
        "jupyter": {
          "outputs_hidden": false
        },
        "id": "Fl5GGWqDAgQ1",
        "outputId": "51516164-a775-4c35-a5dd-f259126c73e1",
        "colab": {
          "base_uri": "https://localhost:8080/",
          "height": 367
        }
      },
      "outputs": [
        {
          "output_type": "execute_result",
          "data": {
            "text/plain": [
              "<matplotlib.legend.Legend at 0x7fdad2824850>"
            ]
          },
          "metadata": {},
          "execution_count": 9
        },
        {
          "output_type": "display_data",
          "data": {
            "text/plain": [
              "<Figure size 360x360 with 1 Axes>"
            ],
            "image/png": "[encoded data removed]"
          },
          "metadata": {
            "needs_background": "light"
          }
        }
      ],
      "source": [
        "from sklearn import metrics\n",
        "\n",
        "y_pred = lin_model.predict(X)\n",
        "\n",
        "plt.figure(figsize=(5, 5))\n",
        "plt.scatter(y, y_pred, label='Prediction')\n",
        "plt.plot([y.min(), y.max()], [y.min(), y.max()], 'k', label='Line y=x')\n",
        "plt.xlabel('Original Life Expectancy')\n",
        "plt.ylabel('Predicted Life Expectancy')\n",
        "plt.title(f'Original vs. Predicted: MSE={np.round(metrics.mean_squared_error(y, y_pred), 3)}')\n",
        "plt.legend()"
      ]
    },
    {
      "cell_type": "markdown",
      "metadata": {
        "id": "pdM_1P-cAgQ1"
      },
      "source": [
        "### Excercise 1\n",
        "\n",
        "Please produce this analysis all countries:\n",
        "1) plot all scatter plots of Spending vs life expectancy at subplots\n",
        "2) plot for each  the linear regression line and put in the legend the regression equation you have got\n",
        "3) in the title add country name and $R^2$ and $MSE$ you have calculated\n"
      ]
    },
    {
      "cell_type": "markdown",
      "metadata": {
        "id": "hk25VmOHAgQ2"
      },
      "source": [
        "We see that the $R^2=0.93$ and the $MSE=0.416$. How good is it? To answer this quesiton we would like to plot the risiduals: the graph of errors\n",
        "$$\n",
        "y-\\widehat{y}\n",
        "$$"
      ]
    },
    {
      "cell_type": "code",
      "execution_count": null,
      "metadata": {
        "jupyter": {
          "outputs_hidden": false
        },
        "id": "728jztY-AgQ2",
        "outputId": "8244776f-0418-4aa3-87c6-e7d055a0d5b1"
      },
      "outputs": [
        {
          "data": {
            "text/plain": [
              "Text(0.5, 1.0, 'Plot of risuduals')"
            ]
          },
          "execution_count": 9,
          "metadata": {},
          "output_type": "execute_result"
        },
        {
          "data": {
            "image/png": "[encoded data removed]",
            "text/plain": [
              "<Figure size 432x288 with 1 Axes>"
            ]
          },
          "metadata": {
            "needs_background": "light"
          },
          "output_type": "display_data"
        }
      ],
      "source": [
        "plt.plot(y-y_pred, color='b', ls='-', lw='0', marker='.', markersize='10')\n",
        "plt.title('Plot of risuduals')"
      ]
    },
    {
      "cell_type": "markdown",
      "metadata": {
        "id": "4kmKc3ZnAgQ3"
      },
      "source": [
        "We see that indeed, although the metrics of the regression seem good, the linear model doesn't completely describe the data. We need something else\n",
        "\n",
        "Before we do the Polynomial regression, we show how to use the package *scipy* for the other statistical metrics of the Regression models:\n"
      ]
    },
    {
      "cell_type": "markdown",
      "metadata": {
        "id": "fHrZBsrqAgQ3"
      },
      "source": [
        "## Polynomial regression\n",
        "\n",
        "We would like to extend our simple model to quadritic model\n",
        "$$\n",
        "y = a x^2 + b x + c\n",
        "$$\n",
        "\n",
        "In order to use polynomial regression of order 2, we just add the square of the *Spendings* feature to our original table. We will use the following syntax of Pandas to do it\n",
        "```\n",
        "df['Spending_USD_Square'] = df['Spending_USD']**2\n",
        "```\n",
        "It creates the new column named *Spending_USD_Square*, that equals to the square of the values of the column *Spending_USD*.\n",
        "\n",
        "Afterward, we create a new multiple linear regression using the columns *Spending_USD* and *Spending_USD_Square*\n"
      ]
    },
    {
      "cell_type": "code",
      "execution_count": null,
      "metadata": {
        "jupyter": {
          "outputs_hidden": false
        },
        "id": "jwCx6NYLAgQ4",
        "outputId": "af02817e-0ffe-48fc-bd69-8f7fd02624d0"
      },
      "outputs": [
        {
          "name": "stdout",
          "output_type": "stream",
          "text": [
            "R^2: 0.9921\n"
          ]
        }
      ],
      "source": [
        "df['Spending_USD_Square'] = df['Spending_USD']**2\n",
        "X2 = df.loc[df.Country=='Canada', ['Spending_USD', 'Spending_USD_Square']].values\n",
        "y = df.loc[df.Country=='Canada', 'Life_Expectancy'].values\n",
        "lin_model = linear_model.LinearRegression()\n",
        "lin_model.fit(X2, y)\n",
        "print(\"R^2: {:.4f}\".format(lin_model.score(X2, y)))"
      ]
    },
    {
      "cell_type": "markdown",
      "metadata": {
        "id": "jBoHIUByAgQ4"
      },
      "source": [
        "We observe, that indeed, the $R^2$ improved significantly. Please, note that this is not an adjusted $R^2$ - doesn't take into account the number of variables (in our case 2). To remind you, the adjusted $R^2$ is calculated according to\n",
        "$$\n",
        "\\hat{R}^2 = 1 - (1 - R^2) \\frac{n-1}{n-p-1},\n",
        "$$\n",
        "where $n$ - is the number of samples, and $p$ is the number of independent variables. Let's calculate it from the usual $R^2$:"
      ]
    },
    {
      "cell_type": "code",
      "execution_count": null,
      "metadata": {
        "jupyter": {
          "outputs_hidden": false
        },
        "id": "YvqUviZdAgQ5",
        "outputId": "49db4d58-0e4a-4c27-d54d-2a02a5ad7528"
      },
      "outputs": [
        {
          "name": "stdout",
          "output_type": "stream",
          "text": [
            "Adjusted R^2=0.9917539081280501\n"
          ]
        }
      ],
      "source": [
        "def adjusted_r_square(model, X, y):\n",
        "    coefficient = (X.shape[0]-1) / (X.shape[0]-X.shape[1]-1)\n",
        "    return (1 - (1-model.score(X, y)) * coefficient)\n",
        "\n",
        "print(f'Adjusted R^2={adjusted_r_square(lin_model, X2, y)}')"
      ]
    },
    {
      "cell_type": "markdown",
      "metadata": {
        "id": "1FKfDWegAgQ5"
      },
      "source": [
        "What is the meaning of this model? It means that given Spending of $1000 a year, we can calculate the predicted Life Expectancy according to the model, even if we don't have this data at hand"
      ]
    },
    {
      "cell_type": "markdown",
      "metadata": {
        "id": "1Djzf1YSAgQ6"
      },
      "source": [
        "Let's see what about other metrics"
      ]
    },
    {
      "cell_type": "code",
      "execution_count": null,
      "metadata": {
        "jupyter": {
          "outputs_hidden": false
        },
        "id": "SXFcHdUeAgQ7",
        "outputId": "c6b99de0-0d98-4f85-e281-c3125595e6be"
      },
      "outputs": [
        {
          "data": {
            "text/plain": [
              "<matplotlib.legend.Legend at 0x1ab2b6bf5b0>"
            ]
          },
          "execution_count": 14,
          "metadata": {},
          "output_type": "execute_result"
        },
        {
          "data": {
            "image/png": "[encoded data removed]",
            "text/plain": [
              "<Figure size 864x360 with 2 Axes>"
            ]
          },
          "metadata": {
            "needs_background": "light"
          },
          "output_type": "display_data"
        }
      ],
      "source": [
        "y_pred = lin_model.predict(X2)\n",
        "\n",
        "fig, ax = plt.subplots(nrows=1, ncols=2, figsize=(12, 5))\n",
        "ax[0].plot(X2[:, 0], y, '.k')\n",
        "ax[0].plot(X2[:, 0], lin_model.predict(X2))\n",
        "ax[0].set_xlabel('Spending ($)')\n",
        "ax[0].set_ylabel('Life Expectancy (years)')\n",
        "ax[0].set_title('Country: Canada')\n",
        "\n",
        "ax[1].scatter(y, y_pred, label='Prediction')\n",
        "ax[1].plot([y.min(), y.max()], [y.min(), y.max()], 'k', label='Line y=x')\n",
        "ax[1].set_xlabel('Original Life Expectancy')\n",
        "ax[1].set_ylabel('Predicted Life Expectancy')\n",
        "ax[1].set_title(f'Original vs. Predicted: MSE={np.round(metrics.mean_squared_error(y, y_pred), 3)}')\n",
        "ax[1].legend()"
      ]
    },
    {
      "cell_type": "markdown",
      "metadata": {
        "id": "I1JYyvdLAgQ7"
      },
      "source": [
        "We see that co,paring to the Linear regression, our Polynomial regression of order 2 gets improves the MSE significantly - order of magnitude. What about the risiduals?"
      ]
    },
    {
      "cell_type": "code",
      "execution_count": null,
      "metadata": {
        "jupyter": {
          "outputs_hidden": false
        },
        "id": "cNTNbWQyAgQ8",
        "outputId": "6e569572-3333-451d-8856-a1873e8d9b07"
      },
      "outputs": [
        {
          "data": {
            "text/plain": [
              "Text(0.5, 1.0, 'Plot of risuduals')"
            ]
          },
          "execution_count": 15,
          "metadata": {},
          "output_type": "execute_result"
        },
        {
          "data": {
            "image/png": "[encoded data removed]",
            "text/plain": [
              "<Figure size 432x288 with 1 Axes>"
            ]
          },
          "metadata": {
            "needs_background": "light"
          },
          "output_type": "display_data"
        }
      ],
      "source": [
        "plt.plot(y-y_pred, color='b', ls='-', lw='0', marker='.', markersize='10')\n",
        "plt.title('Plot of risuduals')"
      ]
    },
    {
      "cell_type": "markdown",
      "metadata": {
        "id": "ar11NU48AgQ8"
      },
      "source": [
        "Indeed, the risiduals also behave now much more randomly than for the Linear regression"
      ]
    },
    {
      "cell_type": "code",
      "execution_count": null,
      "metadata": {
        "id": "U1aOxSEQAgQ9",
        "outputId": "e1d06baf-9b67-4d25-c326-2efbc2da12e1"
      },
      "outputs": [
        {
          "data": {
            "image/png": "[encoded data removed]",
            "text/plain": [
              "<Figure size 432x288 with 1 Axes>"
            ]
          },
          "metadata": {
            "needs_background": "light"
          },
          "output_type": "display_data"
        }
      ],
      "source": [
        "plt.hist(y-y_pred, bins=20)\n",
        "plt.show()"
      ]
    },
    {
      "cell_type": "markdown",
      "metadata": {
        "id": "cZWvEa87AgQ9"
      },
      "source": [
        "### Excercise 3\n",
        "\n",
        "Please, perform the same analysis for Japan : Life expectancy as the function of Healthcare spendings. Compare linear regression model to polynomial regression model of order 2\n",
        "\n"
      ]
    },
    {
      "cell_type": "markdown",
      "metadata": {
        "id": "mnJRGPYxK6iG"
      },
      "source": [
        "# References\n",
        "\n",
        "- Scikit-learn [supervised learning tutorial](http://scikit-learn.org/stable/tutorial/statistical_inference/supervised_learning.html).\n",
        "- [Tuning meta-parameters](http://scikit-learn.org/stable/modules/grid_search.html#grid-search) with cross validation.\n",
        "\n",
        "# Futher exercise\n",
        "\n",
        "- [Regression with a linear model](../exercises/linear-model.ipynb)\n",
        "- [Classification with a logistic model](../exercises/logistic-tennis.ipynb)"
      ]
    },
    {
      "cell_type": "code",
      "execution_count": null,
      "metadata": {
        "id": "HYXvwc3JK6iI"
      },
      "outputs": [],
      "source": []
    }
  ],
  "metadata": {
    "colab": {
      "provenance": []
    },
    "kernelspec": {
      "display_name": "Python 3 (ipykernel)",
      "language": "python",
      "name": "python3"
    },
    "language_info": {
      "codemirror_mode": {
        "name": "ipython",
        "version": 3
      },
      "file_extension": ".py",
      "mimetype": "text/x-python",
      "name": "python",
      "nbconvert_exporter": "python",
      "pygments_lexer": "ipython3",
      "version": "3.11.0"
    }
  },
  "nbformat": 4,
  "nbformat_minor": 0
}